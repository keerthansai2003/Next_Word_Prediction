{
  "nbformat": 4,
  "nbformat_minor": 0,
  "metadata": {
    "colab": {
      "provenance": [],
      "gpuType": "T4"
    },
    "kernelspec": {
      "name": "python3",
      "display_name": "Python 3"
    },
    "language_info": {
      "name": "python"
    },
    "accelerator": "GPU"
  },
  "cells": [
    {
      "cell_type": "code",
      "execution_count": 7,
      "metadata": {
        "id": "8YZonSaKOBY-"
      },
      "outputs": [],
      "source": [
        "import tensorflow as tf\n",
        "from tensorflow.keras.preprocessing.text import Tokenizer\n",
        "from tensorflow.keras.layers import Embedding, LSTM, Dense\n",
        "from tensorflow.keras.models import Sequential\n",
        "from tensorflow.keras.utils import to_categorical\n",
        "from tensorflow.keras.optimizers import Adam\n",
        "import pickle\n",
        "import numpy as np\n",
        "import os\n"
      ]
    },
    {
      "cell_type": "code",
      "source": [
        "from google.colab import files\n",
        "uploaded = files.upload()"
      ],
      "metadata": {
        "colab": {
          "base_uri": "https://localhost:8080/",
          "height": 74
        },
        "id": "kcDtZ8_VOLlL",
        "outputId": "5a7389d8-f3b2-4fd0-e602-a07aca5ea28d"
      },
      "execution_count": 8,
      "outputs": [
        {
          "output_type": "display_data",
          "data": {
            "text/plain": [
              "<IPython.core.display.HTML object>"
            ],
            "text/html": [
              "\n",
              "     <input type=\"file\" id=\"files-d681ace8-8d51-42c2-8310-aa5cc5cf8bc4\" name=\"files[]\" multiple disabled\n",
              "        style=\"border:none\" />\n",
              "     <output id=\"result-d681ace8-8d51-42c2-8310-aa5cc5cf8bc4\">\n",
              "      Upload widget is only available when the cell has been executed in the\n",
              "      current browser session. Please rerun this cell to enable.\n",
              "      </output>\n",
              "      <script>// Copyright 2017 Google LLC\n",
              "//\n",
              "// Licensed under the Apache License, Version 2.0 (the \"License\");\n",
              "// you may not use this file except in compliance with the License.\n",
              "// You may obtain a copy of the License at\n",
              "//\n",
              "//      http://www.apache.org/licenses/LICENSE-2.0\n",
              "//\n",
              "// Unless required by applicable law or agreed to in writing, software\n",
              "// distributed under the License is distributed on an \"AS IS\" BASIS,\n",
              "// WITHOUT WARRANTIES OR CONDITIONS OF ANY KIND, either express or implied.\n",
              "// See the License for the specific language governing permissions and\n",
              "// limitations under the License.\n",
              "\n",
              "/**\n",
              " * @fileoverview Helpers for google.colab Python module.\n",
              " */\n",
              "(function(scope) {\n",
              "function span(text, styleAttributes = {}) {\n",
              "  const element = document.createElement('span');\n",
              "  element.textContent = text;\n",
              "  for (const key of Object.keys(styleAttributes)) {\n",
              "    element.style[key] = styleAttributes[key];\n",
              "  }\n",
              "  return element;\n",
              "}\n",
              "\n",
              "// Max number of bytes which will be uploaded at a time.\n",
              "const MAX_PAYLOAD_SIZE = 100 * 1024;\n",
              "\n",
              "function _uploadFiles(inputId, outputId) {\n",
              "  const steps = uploadFilesStep(inputId, outputId);\n",
              "  const outputElement = document.getElementById(outputId);\n",
              "  // Cache steps on the outputElement to make it available for the next call\n",
              "  // to uploadFilesContinue from Python.\n",
              "  outputElement.steps = steps;\n",
              "\n",
              "  return _uploadFilesContinue(outputId);\n",
              "}\n",
              "\n",
              "// This is roughly an async generator (not supported in the browser yet),\n",
              "// where there are multiple asynchronous steps and the Python side is going\n",
              "// to poll for completion of each step.\n",
              "// This uses a Promise to block the python side on completion of each step,\n",
              "// then passes the result of the previous step as the input to the next step.\n",
              "function _uploadFilesContinue(outputId) {\n",
              "  const outputElement = document.getElementById(outputId);\n",
              "  const steps = outputElement.steps;\n",
              "\n",
              "  const next = steps.next(outputElement.lastPromiseValue);\n",
              "  return Promise.resolve(next.value.promise).then((value) => {\n",
              "    // Cache the last promise value to make it available to the next\n",
              "    // step of the generator.\n",
              "    outputElement.lastPromiseValue = value;\n",
              "    return next.value.response;\n",
              "  });\n",
              "}\n",
              "\n",
              "/**\n",
              " * Generator function which is called between each async step of the upload\n",
              " * process.\n",
              " * @param {string} inputId Element ID of the input file picker element.\n",
              " * @param {string} outputId Element ID of the output display.\n",
              " * @return {!Iterable<!Object>} Iterable of next steps.\n",
              " */\n",
              "function* uploadFilesStep(inputId, outputId) {\n",
              "  const inputElement = document.getElementById(inputId);\n",
              "  inputElement.disabled = false;\n",
              "\n",
              "  const outputElement = document.getElementById(outputId);\n",
              "  outputElement.innerHTML = '';\n",
              "\n",
              "  const pickedPromise = new Promise((resolve) => {\n",
              "    inputElement.addEventListener('change', (e) => {\n",
              "      resolve(e.target.files);\n",
              "    });\n",
              "  });\n",
              "\n",
              "  const cancel = document.createElement('button');\n",
              "  inputElement.parentElement.appendChild(cancel);\n",
              "  cancel.textContent = 'Cancel upload';\n",
              "  const cancelPromise = new Promise((resolve) => {\n",
              "    cancel.onclick = () => {\n",
              "      resolve(null);\n",
              "    };\n",
              "  });\n",
              "\n",
              "  // Wait for the user to pick the files.\n",
              "  const files = yield {\n",
              "    promise: Promise.race([pickedPromise, cancelPromise]),\n",
              "    response: {\n",
              "      action: 'starting',\n",
              "    }\n",
              "  };\n",
              "\n",
              "  cancel.remove();\n",
              "\n",
              "  // Disable the input element since further picks are not allowed.\n",
              "  inputElement.disabled = true;\n",
              "\n",
              "  if (!files) {\n",
              "    return {\n",
              "      response: {\n",
              "        action: 'complete',\n",
              "      }\n",
              "    };\n",
              "  }\n",
              "\n",
              "  for (const file of files) {\n",
              "    const li = document.createElement('li');\n",
              "    li.append(span(file.name, {fontWeight: 'bold'}));\n",
              "    li.append(span(\n",
              "        `(${file.type || 'n/a'}) - ${file.size} bytes, ` +\n",
              "        `last modified: ${\n",
              "            file.lastModifiedDate ? file.lastModifiedDate.toLocaleDateString() :\n",
              "                                    'n/a'} - `));\n",
              "    const percent = span('0% done');\n",
              "    li.appendChild(percent);\n",
              "\n",
              "    outputElement.appendChild(li);\n",
              "\n",
              "    const fileDataPromise = new Promise((resolve) => {\n",
              "      const reader = new FileReader();\n",
              "      reader.onload = (e) => {\n",
              "        resolve(e.target.result);\n",
              "      };\n",
              "      reader.readAsArrayBuffer(file);\n",
              "    });\n",
              "    // Wait for the data to be ready.\n",
              "    let fileData = yield {\n",
              "      promise: fileDataPromise,\n",
              "      response: {\n",
              "        action: 'continue',\n",
              "      }\n",
              "    };\n",
              "\n",
              "    // Use a chunked sending to avoid message size limits. See b/62115660.\n",
              "    let position = 0;\n",
              "    do {\n",
              "      const length = Math.min(fileData.byteLength - position, MAX_PAYLOAD_SIZE);\n",
              "      const chunk = new Uint8Array(fileData, position, length);\n",
              "      position += length;\n",
              "\n",
              "      const base64 = btoa(String.fromCharCode.apply(null, chunk));\n",
              "      yield {\n",
              "        response: {\n",
              "          action: 'append',\n",
              "          file: file.name,\n",
              "          data: base64,\n",
              "        },\n",
              "      };\n",
              "\n",
              "      let percentDone = fileData.byteLength === 0 ?\n",
              "          100 :\n",
              "          Math.round((position / fileData.byteLength) * 100);\n",
              "      percent.textContent = `${percentDone}% done`;\n",
              "\n",
              "    } while (position < fileData.byteLength);\n",
              "  }\n",
              "\n",
              "  // All done.\n",
              "  yield {\n",
              "    response: {\n",
              "      action: 'complete',\n",
              "    }\n",
              "  };\n",
              "}\n",
              "\n",
              "scope.google = scope.google || {};\n",
              "scope.google.colab = scope.google.colab || {};\n",
              "scope.google.colab._files = {\n",
              "  _uploadFiles,\n",
              "  _uploadFilesContinue,\n",
              "};\n",
              "})(self);\n",
              "</script> "
            ]
          },
          "metadata": {}
        },
        {
          "output_type": "stream",
          "name": "stdout",
          "text": [
            "Saving text.txt to text (1).txt\n"
          ]
        }
      ]
    },
    {
      "cell_type": "code",
      "source": [
        "file = open(\"text.txt\", \"r\", encoding = \"utf8\")\n",
        "\n",
        "# store file in list\n",
        "lines = []\n",
        "for i in file:\n",
        "    lines.append(i)\n",
        "\n",
        "# Convert list to string\n",
        "data = \"\"\n",
        "for i in lines:\n",
        "  data = ' '. join(lines)\n",
        "\n",
        "#replace unnecessary stuff with space\n",
        "data = data.replace('\\n', '').replace('\\r', '').replace('\\ufeff', '').replace('“','').replace('”','')  #new line, carriage return, unicode character --> replace by space\n",
        "\n",
        "#remove unnecessary spaces\n",
        "data = data.split()\n",
        "data = ' '.join(data)\n",
        "data[:493]"
      ],
      "metadata": {
        "colab": {
          "base_uri": "https://localhost:8080/",
          "height": 89
        },
        "id": "4mf1VTXzPNK1",
        "outputId": "9ad38481-5dc5-406c-82f3-3f6c2c2ae250"
      },
      "execution_count": 9,
      "outputs": [
        {
          "output_type": "execute_result",
          "data": {
            "text/plain": [
              "'The Project Gutenberg eBook of Pride and Prejudice This ebook is for the use of anyone anywhere in the United States and most other parts of the world at no cost and with almost no restrictions whatsoever. You may copy it, give it away or re-use it under the terms of the Project Gutenberg License included with this ebook or online at www.gutenberg.org. If you are not located in the United States, you will have to check the laws of the country where you are located before using this eBook.'"
            ],
            "application/vnd.google.colaboratory.intrinsic+json": {
              "type": "string"
            }
          },
          "metadata": {},
          "execution_count": 9
        }
      ]
    },
    {
      "cell_type": "code",
      "source": [
        "len(data)"
      ],
      "metadata": {
        "colab": {
          "base_uri": "https://localhost:8080/"
        },
        "id": "anog4B7pPnSJ",
        "outputId": "9c4a1e91-ad8c-4eeb-f20a-d3cbb9b6c5e1"
      },
      "execution_count": 10,
      "outputs": [
        {
          "output_type": "execute_result",
          "data": {
            "text/plain": [
              "733694"
            ]
          },
          "metadata": {},
          "execution_count": 10
        }
      ]
    },
    {
      "cell_type": "code",
      "source": [
        "tokenizer = Tokenizer()\n",
        "tokenizer.fit_on_texts([data])\n",
        "\n",
        "# saving the tokenizer for predict function\n",
        "pickle.dump(tokenizer, open('token.pkl', 'wb'))\n",
        "\n",
        "sequence_data = tokenizer.texts_to_sequences([data])[0]\n",
        "sequence_data[:15]"
      ],
      "metadata": {
        "colab": {
          "base_uri": "https://localhost:8080/"
        },
        "id": "mGg9aERmPost",
        "outputId": "a970fe12-1076-47b2-f810-195ef1fe7974"
      },
      "execution_count": 11,
      "outputs": [
        {
          "output_type": "execute_result",
          "data": {
            "text/plain": [
              "[1, 181, 390, 1000, 3, 298, 4, 946, 41, 1000, 23, 21, 1, 507, 3]"
            ]
          },
          "metadata": {},
          "execution_count": 11
        }
      ]
    },
    {
      "cell_type": "code",
      "source": [
        "len(sequence_data)"
      ],
      "metadata": {
        "colab": {
          "base_uri": "https://localhost:8080/"
        },
        "id": "DDprLfbzQLvh",
        "outputId": "fc5b9ec8-79e1-4594-ec2e-136f4be147aa"
      },
      "execution_count": 13,
      "outputs": [
        {
          "output_type": "execute_result",
          "data": {
            "text/plain": [
              "131180"
            ]
          },
          "metadata": {},
          "execution_count": 13
        }
      ]
    },
    {
      "cell_type": "code",
      "source": [
        "vocab_size = len(tokenizer.word_index) + 1\n",
        "print(vocab_size)"
      ],
      "metadata": {
        "colab": {
          "base_uri": "https://localhost:8080/"
        },
        "id": "1z_51Ot-QOWD",
        "outputId": "8e1b4ac2-f0b8-4ba0-d19d-337caba020c5"
      },
      "execution_count": 14,
      "outputs": [
        {
          "output_type": "stream",
          "name": "stdout",
          "text": [
            "7252\n"
          ]
        }
      ]
    },
    {
      "cell_type": "code",
      "source": [
        "sequences = []\n",
        "\n",
        "for i in range(3, len(sequence_data)):\n",
        "    words = sequence_data[i-3:i+1]\n",
        "    sequences.append(words)\n",
        "\n",
        "print(\"The Length of sequences are: \", len(sequences))\n",
        "sequences = np.array(sequences)\n",
        "sequences[:10]"
      ],
      "metadata": {
        "colab": {
          "base_uri": "https://localhost:8080/"
        },
        "id": "ttpSdyXJQSNA",
        "outputId": "43e08d43-d4d6-480f-9043-2c3c794df288"
      },
      "execution_count": 15,
      "outputs": [
        {
          "output_type": "stream",
          "name": "stdout",
          "text": [
            "The Length of sequences are:  131177\n"
          ]
        },
        {
          "output_type": "execute_result",
          "data": {
            "text/plain": [
              "array([[   1,  181,  390, 1000],\n",
              "       [ 181,  390, 1000,    3],\n",
              "       [ 390, 1000,    3,  298],\n",
              "       [1000,    3,  298,    4],\n",
              "       [   3,  298,    4,  946],\n",
              "       [ 298,    4,  946,   41],\n",
              "       [   4,  946,   41, 1000],\n",
              "       [ 946,   41, 1000,   23],\n",
              "       [  41, 1000,   23,   21],\n",
              "       [1000,   23,   21,    1]])"
            ]
          },
          "metadata": {},
          "execution_count": 15
        }
      ]
    },
    {
      "cell_type": "code",
      "source": [
        "X = []\n",
        "y = []\n",
        "\n",
        "for i in sequences:\n",
        "    X.append(i[0:3])\n",
        "    y.append(i[3])\n",
        "\n",
        "X = np.array(X)\n",
        "y = np.array(y)"
      ],
      "metadata": {
        "id": "o-PFu7oJQVjd"
      },
      "execution_count": 16,
      "outputs": []
    },
    {
      "cell_type": "code",
      "source": [
        "print(\"Data: \", X[:10])\n",
        "print(\"Response: \", y[:10])"
      ],
      "metadata": {
        "colab": {
          "base_uri": "https://localhost:8080/"
        },
        "id": "gygRzty4QcLy",
        "outputId": "e1e56aa5-bad1-4fce-8e98-f4b18a8f3254"
      },
      "execution_count": 17,
      "outputs": [
        {
          "output_type": "stream",
          "name": "stdout",
          "text": [
            "Data:  [[   1  181  390]\n",
            " [ 181  390 1000]\n",
            " [ 390 1000    3]\n",
            " [1000    3  298]\n",
            " [   3  298    4]\n",
            " [ 298    4  946]\n",
            " [   4  946   41]\n",
            " [ 946   41 1000]\n",
            " [  41 1000   23]\n",
            " [1000   23   21]]\n",
            "Response:  [1000    3  298    4  946   41 1000   23   21    1]\n"
          ]
        }
      ]
    },
    {
      "cell_type": "code",
      "source": [
        "y = to_categorical(y, num_classes=vocab_size)\n",
        "y[:5]"
      ],
      "metadata": {
        "colab": {
          "base_uri": "https://localhost:8080/"
        },
        "id": "fo51TqKFQcnT",
        "outputId": "fb3ca908-2dda-497d-dbd8-c4610cc4f1c0"
      },
      "execution_count": 18,
      "outputs": [
        {
          "output_type": "execute_result",
          "data": {
            "text/plain": [
              "array([[0., 0., 0., ..., 0., 0., 0.],\n",
              "       [0., 0., 0., ..., 0., 0., 0.],\n",
              "       [0., 0., 0., ..., 0., 0., 0.],\n",
              "       [0., 0., 0., ..., 0., 0., 0.],\n",
              "       [0., 0., 0., ..., 0., 0., 0.]], dtype=float32)"
            ]
          },
          "metadata": {},
          "execution_count": 18
        }
      ]
    },
    {
      "cell_type": "code",
      "source": [
        "model = Sequential()\n",
        "model.add(Embedding(vocab_size, 10, input_length=3))\n",
        "model.add(LSTM(1000, return_sequences=True))\n",
        "model.add(LSTM(1000))\n",
        "model.add(Dense(1000, activation=\"relu\"))\n",
        "model.add(Dense(vocab_size, activation=\"softmax\"))"
      ],
      "metadata": {
        "id": "db8wVKzGQfMd"
      },
      "execution_count": 19,
      "outputs": []
    },
    {
      "cell_type": "code",
      "source": [
        "model.summary()"
      ],
      "metadata": {
        "colab": {
          "base_uri": "https://localhost:8080/"
        },
        "id": "BEcK-8o7QlfU",
        "outputId": "45e19a97-bb2a-412c-8e5c-7eeedf3d131c"
      },
      "execution_count": 20,
      "outputs": [
        {
          "output_type": "stream",
          "name": "stdout",
          "text": [
            "Model: \"sequential\"\n",
            "_________________________________________________________________\n",
            " Layer (type)                Output Shape              Param #   \n",
            "=================================================================\n",
            " embedding (Embedding)       (None, 3, 10)             72520     \n",
            "                                                                 \n",
            " lstm (LSTM)                 (None, 3, 1000)           4044000   \n",
            "                                                                 \n",
            " lstm_1 (LSTM)               (None, 1000)              8004000   \n",
            "                                                                 \n",
            " dense (Dense)               (None, 1000)              1001000   \n",
            "                                                                 \n",
            " dense_1 (Dense)             (None, 7252)              7259252   \n",
            "                                                                 \n",
            "=================================================================\n",
            "Total params: 20380772 (77.75 MB)\n",
            "Trainable params: 20380772 (77.75 MB)\n",
            "Non-trainable params: 0 (0.00 Byte)\n",
            "_________________________________________________________________\n"
          ]
        }
      ]
    },
    {
      "cell_type": "code",
      "source": [
        "from tensorflow.keras.callbacks import ModelCheckpoint\n",
        "\n",
        "checkpoint = ModelCheckpoint(\"next_words.h5\", monitor='loss', verbose=1, save_best_only=True)\n",
        "model.compile(loss=\"categorical_crossentropy\", optimizer=Adam(learning_rate=0.001))\n",
        "model.fit(X, y, epochs=70, batch_size=64, callbacks=[checkpoint])\n"
      ],
      "metadata": {
        "colab": {
          "base_uri": "https://localhost:8080/"
        },
        "id": "2sYn_TuWQ0AH",
        "outputId": "788805fa-8281-4ae7-bc77-933ffd758d89"
      },
      "execution_count": 22,
      "outputs": [
        {
          "output_type": "stream",
          "name": "stdout",
          "text": [
            "Epoch 1/70\n",
            "2050/2050 [==============================] - ETA: 0s - loss: 6.2217\n",
            "Epoch 1: loss improved from inf to 6.22173, saving model to next_words.h5\n"
          ]
        },
        {
          "output_type": "stream",
          "name": "stderr",
          "text": [
            "/usr/local/lib/python3.10/dist-packages/keras/src/engine/training.py:3103: UserWarning: You are saving your model as an HDF5 file via `model.save()`. This file format is considered legacy. We recommend using instead the native Keras format, e.g. `model.save('my_model.keras')`.\n",
            "  saving_api.save_model(\n"
          ]
        },
        {
          "output_type": "stream",
          "name": "stdout",
          "text": [
            "\b\b\b\b\b\b\b\b\b\b\b\b\b\b\b\b\b\b\b\b\b\b\b\b\b\b\b\b\b\b\b\b\b\b\b\b\b\b\b\b\b\b\b\b\b\b\b\b\b\b\b\b\b\b\b\b\b\b\b\b\b\b\b\b\b\b\b\r2050/2050 [==============================] - 45s 20ms/step - loss: 6.2217\n",
            "Epoch 2/70\n",
            "2050/2050 [==============================] - ETA: 0s - loss: 5.6138\n",
            "Epoch 2: loss improved from 6.22173 to 5.61378, saving model to next_words.h5\n",
            "2050/2050 [==============================] - 34s 16ms/step - loss: 5.6138\n",
            "Epoch 3/70\n",
            "2050/2050 [==============================] - ETA: 0s - loss: 5.2934\n",
            "Epoch 3: loss improved from 5.61378 to 5.29342, saving model to next_words.h5\n",
            "2050/2050 [==============================] - 34s 17ms/step - loss: 5.2934\n",
            "Epoch 4/70\n",
            "2050/2050 [==============================] - ETA: 0s - loss: 5.0657\n",
            "Epoch 4: loss improved from 5.29342 to 5.06574, saving model to next_words.h5\n",
            "2050/2050 [==============================] - 34s 17ms/step - loss: 5.0657\n",
            "Epoch 5/70\n",
            "2050/2050 [==============================] - ETA: 0s - loss: 4.8664\n",
            "Epoch 5: loss improved from 5.06574 to 4.86644, saving model to next_words.h5\n",
            "2050/2050 [==============================] - 34s 17ms/step - loss: 4.8664\n",
            "Epoch 6/70\n",
            "2049/2050 [============================>.] - ETA: 0s - loss: 4.6681\n",
            "Epoch 6: loss improved from 4.86644 to 4.66808, saving model to next_words.h5\n",
            "2050/2050 [==============================] - 35s 17ms/step - loss: 4.6681\n",
            "Epoch 7/70\n",
            "2050/2050 [==============================] - ETA: 0s - loss: 4.4715\n",
            "Epoch 7: loss improved from 4.66808 to 4.47146, saving model to next_words.h5\n",
            "2050/2050 [==============================] - 35s 17ms/step - loss: 4.4715\n",
            "Epoch 8/70\n",
            "2050/2050 [==============================] - ETA: 0s - loss: 4.2710\n",
            "Epoch 8: loss improved from 4.47146 to 4.27100, saving model to next_words.h5\n",
            "2050/2050 [==============================] - 34s 17ms/step - loss: 4.2710\n",
            "Epoch 9/70\n",
            "2048/2050 [============================>.] - ETA: 0s - loss: 4.0652\n",
            "Epoch 9: loss improved from 4.27100 to 4.06513, saving model to next_words.h5\n",
            "2050/2050 [==============================] - 35s 17ms/step - loss: 4.0651\n",
            "Epoch 10/70\n",
            "2050/2050 [==============================] - ETA: 0s - loss: 3.8543\n",
            "Epoch 10: loss improved from 4.06513 to 3.85426, saving model to next_words.h5\n",
            "2050/2050 [==============================] - 35s 17ms/step - loss: 3.8543\n",
            "Epoch 11/70\n",
            "2050/2050 [==============================] - ETA: 0s - loss: 3.6405\n",
            "Epoch 11: loss improved from 3.85426 to 3.64047, saving model to next_words.h5\n",
            "2050/2050 [==============================] - 37s 18ms/step - loss: 3.6405\n",
            "Epoch 12/70\n",
            "2050/2050 [==============================] - ETA: 0s - loss: 3.4231\n",
            "Epoch 12: loss improved from 3.64047 to 3.42310, saving model to next_words.h5\n",
            "2050/2050 [==============================] - 35s 17ms/step - loss: 3.4231\n",
            "Epoch 13/70\n",
            "2048/2050 [============================>.] - ETA: 0s - loss: 3.2052\n",
            "Epoch 13: loss improved from 3.42310 to 3.20518, saving model to next_words.h5\n",
            "2050/2050 [==============================] - 36s 18ms/step - loss: 3.2052\n",
            "Epoch 14/70\n",
            "2050/2050 [==============================] - ETA: 0s - loss: 2.9815\n",
            "Epoch 14: loss improved from 3.20518 to 2.98146, saving model to next_words.h5\n",
            "2050/2050 [==============================] - 36s 17ms/step - loss: 2.9815\n",
            "Epoch 15/70\n",
            "2050/2050 [==============================] - ETA: 0s - loss: 2.7543\n",
            "Epoch 15: loss improved from 2.98146 to 2.75428, saving model to next_words.h5\n",
            "2050/2050 [==============================] - 35s 17ms/step - loss: 2.7543\n",
            "Epoch 16/70\n",
            "2049/2050 [============================>.] - ETA: 0s - loss: 2.5226\n",
            "Epoch 16: loss improved from 2.75428 to 2.52259, saving model to next_words.h5\n",
            "2050/2050 [==============================] - 35s 17ms/step - loss: 2.5226\n",
            "Epoch 17/70\n",
            "2048/2050 [============================>.] - ETA: 0s - loss: 2.2934\n",
            "Epoch 17: loss improved from 2.52259 to 2.29354, saving model to next_words.h5\n",
            "2050/2050 [==============================] - 35s 17ms/step - loss: 2.2935\n",
            "Epoch 18/70\n",
            "2050/2050 [==============================] - ETA: 0s - loss: 2.0668\n",
            "Epoch 18: loss improved from 2.29354 to 2.06685, saving model to next_words.h5\n",
            "2050/2050 [==============================] - 35s 17ms/step - loss: 2.0668\n",
            "Epoch 19/70\n",
            "2049/2050 [============================>.] - ETA: 0s - loss: 1.8598\n",
            "Epoch 19: loss improved from 2.06685 to 1.85977, saving model to next_words.h5\n",
            "2050/2050 [==============================] - 35s 17ms/step - loss: 1.8598\n",
            "Epoch 20/70\n",
            "2050/2050 [==============================] - ETA: 0s - loss: 1.6671\n",
            "Epoch 20: loss improved from 1.85977 to 1.66709, saving model to next_words.h5\n",
            "2050/2050 [==============================] - 35s 17ms/step - loss: 1.6671\n",
            "Epoch 21/70\n",
            "2048/2050 [============================>.] - ETA: 0s - loss: 1.4903\n",
            "Epoch 21: loss improved from 1.66709 to 1.49064, saving model to next_words.h5\n",
            "2050/2050 [==============================] - 35s 17ms/step - loss: 1.4906\n",
            "Epoch 22/70\n",
            "2048/2050 [============================>.] - ETA: 0s - loss: 1.3442\n",
            "Epoch 22: loss improved from 1.49064 to 1.34445, saving model to next_words.h5\n",
            "2050/2050 [==============================] - 35s 17ms/step - loss: 1.3445\n",
            "Epoch 23/70\n",
            "2048/2050 [============================>.] - ETA: 0s - loss: 1.2126\n",
            "Epoch 23: loss improved from 1.34445 to 1.21282, saving model to next_words.h5\n",
            "2050/2050 [==============================] - 35s 17ms/step - loss: 1.2128\n",
            "Epoch 24/70\n",
            "2049/2050 [============================>.] - ETA: 0s - loss: 1.1068\n",
            "Epoch 24: loss improved from 1.21282 to 1.10683, saving model to next_words.h5\n",
            "2050/2050 [==============================] - 37s 18ms/step - loss: 1.1068\n",
            "Epoch 25/70\n",
            "2050/2050 [==============================] - ETA: 0s - loss: 1.0187\n",
            "Epoch 25: loss improved from 1.10683 to 1.01865, saving model to next_words.h5\n",
            "2050/2050 [==============================] - 35s 17ms/step - loss: 1.0187\n",
            "Epoch 26/70\n",
            "2049/2050 [============================>.] - ETA: 0s - loss: 0.9457\n",
            "Epoch 26: loss improved from 1.01865 to 0.94585, saving model to next_words.h5\n",
            "2050/2050 [==============================] - 35s 17ms/step - loss: 0.9459\n",
            "Epoch 27/70\n",
            "2050/2050 [==============================] - ETA: 0s - loss: 0.8888\n",
            "Epoch 27: loss improved from 0.94585 to 0.88879, saving model to next_words.h5\n",
            "2050/2050 [==============================] - 35s 17ms/step - loss: 0.8888\n",
            "Epoch 28/70\n",
            "2050/2050 [==============================] - ETA: 0s - loss: 0.8412\n",
            "Epoch 28: loss improved from 0.88879 to 0.84115, saving model to next_words.h5\n",
            "2050/2050 [==============================] - 35s 17ms/step - loss: 0.8412\n",
            "Epoch 29/70\n",
            "2050/2050 [==============================] - ETA: 0s - loss: 0.8010\n",
            "Epoch 29: loss improved from 0.84115 to 0.80104, saving model to next_words.h5\n",
            "2050/2050 [==============================] - 35s 17ms/step - loss: 0.8010\n",
            "Epoch 30/70\n",
            "2047/2050 [============================>.] - ETA: 0s - loss: 0.7683\n",
            "Epoch 30: loss improved from 0.80104 to 0.76845, saving model to next_words.h5\n",
            "2050/2050 [==============================] - 35s 17ms/step - loss: 0.7684\n",
            "Epoch 31/70\n",
            "2047/2050 [============================>.] - ETA: 0s - loss: 0.7434\n",
            "Epoch 31: loss improved from 0.76845 to 0.74361, saving model to next_words.h5\n",
            "2050/2050 [==============================] - 35s 17ms/step - loss: 0.7436\n",
            "Epoch 32/70\n",
            "2050/2050 [==============================] - ETA: 0s - loss: 0.7161\n",
            "Epoch 32: loss improved from 0.74361 to 0.71606, saving model to next_words.h5\n",
            "2050/2050 [==============================] - 35s 17ms/step - loss: 0.7161\n",
            "Epoch 33/70\n",
            "2048/2050 [============================>.] - ETA: 0s - loss: 0.6943\n",
            "Epoch 33: loss improved from 0.71606 to 0.69440, saving model to next_words.h5\n",
            "2050/2050 [==============================] - 34s 17ms/step - loss: 0.6944\n",
            "Epoch 34/70\n",
            "2049/2050 [============================>.] - ETA: 0s - loss: 0.6759\n",
            "Epoch 34: loss improved from 0.69440 to 0.67590, saving model to next_words.h5\n",
            "2050/2050 [==============================] - 35s 17ms/step - loss: 0.6759\n",
            "Epoch 35/70\n",
            "2050/2050 [==============================] - ETA: 0s - loss: 0.6630\n",
            "Epoch 35: loss improved from 0.67590 to 0.66295, saving model to next_words.h5\n",
            "2050/2050 [==============================] - 35s 17ms/step - loss: 0.6630\n",
            "Epoch 36/70\n",
            "2048/2050 [============================>.] - ETA: 0s - loss: 0.6434\n",
            "Epoch 36: loss improved from 0.66295 to 0.64332, saving model to next_words.h5\n",
            "2050/2050 [==============================] - 34s 17ms/step - loss: 0.6433\n",
            "Epoch 37/70\n",
            "2050/2050 [==============================] - ETA: 0s - loss: 0.6314\n",
            "Epoch 37: loss improved from 0.64332 to 0.63143, saving model to next_words.h5\n",
            "2050/2050 [==============================] - 34s 17ms/step - loss: 0.6314\n",
            "Epoch 38/70\n",
            "2050/2050 [==============================] - ETA: 0s - loss: 0.6170\n",
            "Epoch 38: loss improved from 0.63143 to 0.61701, saving model to next_words.h5\n",
            "2050/2050 [==============================] - 34s 17ms/step - loss: 0.6170\n",
            "Epoch 39/70\n",
            "2050/2050 [==============================] - ETA: 0s - loss: 0.6076\n",
            "Epoch 39: loss improved from 0.61701 to 0.60760, saving model to next_words.h5\n",
            "2050/2050 [==============================] - 34s 17ms/step - loss: 0.6076\n",
            "Epoch 40/70\n",
            "2050/2050 [==============================] - ETA: 0s - loss: 0.5975\n",
            "Epoch 40: loss improved from 0.60760 to 0.59746, saving model to next_words.h5\n",
            "2050/2050 [==============================] - 36s 17ms/step - loss: 0.5975\n",
            "Epoch 41/70\n",
            "2050/2050 [==============================] - ETA: 0s - loss: 0.5871\n",
            "Epoch 41: loss improved from 0.59746 to 0.58708, saving model to next_words.h5\n",
            "2050/2050 [==============================] - 34s 17ms/step - loss: 0.5871\n",
            "Epoch 42/70\n",
            "2047/2050 [============================>.] - ETA: 0s - loss: 0.5765\n",
            "Epoch 42: loss improved from 0.58708 to 0.57649, saving model to next_words.h5\n",
            "2050/2050 [==============================] - 34s 17ms/step - loss: 0.5765\n",
            "Epoch 43/70\n",
            "2050/2050 [==============================] - ETA: 0s - loss: 0.5678\n",
            "Epoch 43: loss improved from 0.57649 to 0.56776, saving model to next_words.h5\n",
            "2050/2050 [==============================] - 34s 17ms/step - loss: 0.5678\n",
            "Epoch 44/70\n",
            "2050/2050 [==============================] - ETA: 0s - loss: 0.5600\n",
            "Epoch 44: loss improved from 0.56776 to 0.56000, saving model to next_words.h5\n",
            "2050/2050 [==============================] - 34s 17ms/step - loss: 0.5600\n",
            "Epoch 45/70\n",
            "2049/2050 [============================>.] - ETA: 0s - loss: 0.5549\n",
            "Epoch 45: loss improved from 0.56000 to 0.55491, saving model to next_words.h5\n",
            "2050/2050 [==============================] - 34s 17ms/step - loss: 0.5549\n",
            "Epoch 46/70\n",
            "2050/2050 [==============================] - ETA: 0s - loss: 0.5462\n",
            "Epoch 46: loss improved from 0.55491 to 0.54622, saving model to next_words.h5\n",
            "2050/2050 [==============================] - 37s 18ms/step - loss: 0.5462\n",
            "Epoch 47/70\n",
            "2049/2050 [============================>.] - ETA: 0s - loss: 0.5374\n",
            "Epoch 47: loss improved from 0.54622 to 0.53735, saving model to next_words.h5\n",
            "2050/2050 [==============================] - 34s 17ms/step - loss: 0.5374\n",
            "Epoch 48/70\n",
            "2049/2050 [============================>.] - ETA: 0s - loss: 0.5331\n",
            "Epoch 48: loss improved from 0.53735 to 0.53324, saving model to next_words.h5\n",
            "2050/2050 [==============================] - 34s 17ms/step - loss: 0.5332\n",
            "Epoch 49/70\n",
            "2048/2050 [============================>.] - ETA: 0s - loss: 0.5288\n",
            "Epoch 49: loss improved from 0.53324 to 0.52888, saving model to next_words.h5\n",
            "2050/2050 [==============================] - 35s 17ms/step - loss: 0.5289\n",
            "Epoch 50/70\n",
            "2048/2050 [============================>.] - ETA: 0s - loss: 0.5212\n",
            "Epoch 50: loss improved from 0.52888 to 0.52117, saving model to next_words.h5\n",
            "2050/2050 [==============================] - 38s 19ms/step - loss: 0.5212\n",
            "Epoch 51/70\n",
            "2047/2050 [============================>.] - ETA: 0s - loss: 0.5169\n",
            "Epoch 51: loss improved from 0.52117 to 0.51715, saving model to next_words.h5\n",
            "2050/2050 [==============================] - 35s 17ms/step - loss: 0.5171\n",
            "Epoch 52/70\n",
            "2050/2050 [==============================] - ETA: 0s - loss: 0.5107\n",
            "Epoch 52: loss improved from 0.51715 to 0.51072, saving model to next_words.h5\n",
            "2050/2050 [==============================] - 35s 17ms/step - loss: 0.5107\n",
            "Epoch 53/70\n",
            "2050/2050 [==============================] - ETA: 0s - loss: 0.5069\n",
            "Epoch 53: loss improved from 0.51072 to 0.50686, saving model to next_words.h5\n",
            "2050/2050 [==============================] - 35s 17ms/step - loss: 0.5069\n",
            "Epoch 54/70\n",
            "2047/2050 [============================>.] - ETA: 0s - loss: 0.4990\n",
            "Epoch 54: loss improved from 0.50686 to 0.49917, saving model to next_words.h5\n",
            "2050/2050 [==============================] - 34s 17ms/step - loss: 0.4992\n",
            "Epoch 55/70\n",
            "2050/2050 [==============================] - ETA: 0s - loss: 0.4989\n",
            "Epoch 55: loss improved from 0.49917 to 0.49888, saving model to next_words.h5\n",
            "2050/2050 [==============================] - 37s 18ms/step - loss: 0.4989\n",
            "Epoch 56/70\n",
            "2050/2050 [==============================] - ETA: 0s - loss: 0.4891\n",
            "Epoch 56: loss improved from 0.49888 to 0.48910, saving model to next_words.h5\n",
            "2050/2050 [==============================] - 35s 17ms/step - loss: 0.4891\n",
            "Epoch 57/70\n",
            "2047/2050 [============================>.] - ETA: 0s - loss: 0.4880\n",
            "Epoch 57: loss improved from 0.48910 to 0.48808, saving model to next_words.h5\n",
            "2050/2050 [==============================] - 35s 17ms/step - loss: 0.4881\n",
            "Epoch 58/70\n",
            "2047/2050 [============================>.] - ETA: 0s - loss: 0.4857\n",
            "Epoch 58: loss improved from 0.48808 to 0.48560, saving model to next_words.h5\n",
            "2050/2050 [==============================] - 35s 17ms/step - loss: 0.4856\n",
            "Epoch 59/70\n",
            "2047/2050 [============================>.] - ETA: 0s - loss: 0.4814\n",
            "Epoch 59: loss improved from 0.48560 to 0.48159, saving model to next_words.h5\n",
            "2050/2050 [==============================] - 34s 17ms/step - loss: 0.4816\n",
            "Epoch 60/70\n",
            "2048/2050 [============================>.] - ETA: 0s - loss: 0.4754\n",
            "Epoch 60: loss improved from 0.48159 to 0.47553, saving model to next_words.h5\n",
            "2050/2050 [==============================] - 34s 17ms/step - loss: 0.4755\n",
            "Epoch 61/70\n",
            "2048/2050 [============================>.] - ETA: 0s - loss: 0.4742\n",
            "Epoch 61: loss improved from 0.47553 to 0.47422, saving model to next_words.h5\n",
            "2050/2050 [==============================] - 34s 17ms/step - loss: 0.4742\n",
            "Epoch 62/70\n",
            "2048/2050 [============================>.] - ETA: 0s - loss: 0.4698\n",
            "Epoch 62: loss improved from 0.47422 to 0.46992, saving model to next_words.h5\n",
            "2050/2050 [==============================] - 34s 17ms/step - loss: 0.4699\n",
            "Epoch 63/70\n",
            "2048/2050 [============================>.] - ETA: 0s - loss: 0.4676\n",
            "Epoch 63: loss improved from 0.46992 to 0.46765, saving model to next_words.h5\n",
            "2050/2050 [==============================] - 34s 17ms/step - loss: 0.4677\n",
            "Epoch 64/70\n",
            "2047/2050 [============================>.] - ETA: 0s - loss: 0.4645\n",
            "Epoch 64: loss improved from 0.46765 to 0.46460, saving model to next_words.h5\n",
            "2050/2050 [==============================] - 35s 17ms/step - loss: 0.4646\n",
            "Epoch 65/70\n",
            "2048/2050 [============================>.] - ETA: 0s - loss: 0.4604\n",
            "Epoch 65: loss improved from 0.46460 to 0.46034, saving model to next_words.h5\n",
            "2050/2050 [==============================] - 34s 17ms/step - loss: 0.4603\n",
            "Epoch 66/70\n",
            "2049/2050 [============================>.] - ETA: 0s - loss: 0.4626\n",
            "Epoch 66: loss did not improve from 0.46034\n",
            "2050/2050 [==============================] - 34s 17ms/step - loss: 0.4626\n",
            "Epoch 67/70\n",
            "2048/2050 [============================>.] - ETA: 0s - loss: 0.4530\n",
            "Epoch 67: loss improved from 0.46034 to 0.45301, saving model to next_words.h5\n",
            "2050/2050 [==============================] - 38s 18ms/step - loss: 0.4530\n",
            "Epoch 68/70\n",
            "2050/2050 [==============================] - ETA: 0s - loss: 0.4552\n",
            "Epoch 68: loss did not improve from 0.45301\n",
            "2050/2050 [==============================] - 34s 17ms/step - loss: 0.4552\n",
            "Epoch 69/70\n",
            "2049/2050 [============================>.] - ETA: 0s - loss: 0.4500\n",
            "Epoch 69: loss improved from 0.45301 to 0.44997, saving model to next_words.h5\n",
            "2050/2050 [==============================] - 35s 17ms/step - loss: 0.4500\n",
            "Epoch 70/70\n",
            "2050/2050 [==============================] - ETA: 0s - loss: 0.4473\n",
            "Epoch 70: loss improved from 0.44997 to 0.44731, saving model to next_words.h5\n",
            "2050/2050 [==============================] - 34s 17ms/step - loss: 0.4473\n"
          ]
        },
        {
          "output_type": "execute_result",
          "data": {
            "text/plain": [
              "<keras.src.callbacks.History at 0x798912498e20>"
            ]
          },
          "metadata": {},
          "execution_count": 22
        }
      ]
    },
    {
      "cell_type": "code",
      "source": [
        "from tensorflow.keras.models import load_model\n",
        "import numpy as np\n",
        "import pickle\n",
        "\n",
        "# Load the model and tokenizer\n",
        "model = load_model('next_words.h5')\n",
        "tokenizer = pickle.load(open('token.pkl', 'rb'))\n",
        "\n",
        "def Predict_Next_Words(model, tokenizer, text):\n",
        "\n",
        "  sequence = tokenizer.texts_to_sequences([text])\n",
        "  sequence = np.array(sequence)\n",
        "  preds = np.argmax(model.predict(sequence))\n",
        "  predicted_word = \"\"\n",
        "\n",
        "  for key, value in tokenizer.word_index.items():\n",
        "      if value == preds:\n",
        "          predicted_word = key\n",
        "          break\n",
        "\n",
        "  print(predicted_word)\n",
        "  return predicted_word"
      ],
      "metadata": {
        "id": "T1zeSXPgQ304"
      },
      "execution_count": 23,
      "outputs": []
    },
    {
      "cell_type": "code",
      "source": [
        "while(True):\n",
        "  text = input(\"Enter your line: \")\n",
        "\n",
        "  if text == \"0\":\n",
        "      print(\"Execution completed.....\")\n",
        "      break\n",
        "\n",
        "  else:\n",
        "      try:\n",
        "          text = text.split(\" \")\n",
        "          text = text[-3:]\n",
        "          print(text)\n",
        "\n",
        "          Predict_Next_Words(model, tokenizer, text)\n",
        "\n",
        "      except Exception as e:\n",
        "        print(\"Error occurred: \",e)\n",
        "        continue"
      ],
      "metadata": {
        "colab": {
          "base_uri": "https://localhost:8080/"
        },
        "id": "rko4sZvRadBm",
        "outputId": "5596b957-f93b-4df4-c919-41cb6b5241ea"
      },
      "execution_count": 24,
      "outputs": [
        {
          "output_type": "stream",
          "name": "stdout",
          "text": [
            "Enter your line: how can you abuse your own\n",
            "['abuse', 'your', 'own']\n",
            "1/1 [==============================] - 1s 1s/step\n",
            "children\n",
            "Enter your line: He was quite\n",
            "['He', 'was', 'quite']\n",
            "1/1 [==============================] - 0s 18ms/step\n",
            "young\n",
            "Enter your line: He could not help seeing that you were about five times as\n",
            "['five', 'times', 'as']\n",
            "1/1 [==============================] - 0s 20ms/step\n",
            "pretty\n",
            "Enter your line: quit\n",
            "['quit']\n",
            "1/1 [==============================] - 1s 609ms/step\n",
            "netherfield\n",
            "Enter your line: 0\n",
            "Execution completed.....\n"
          ]
        }
      ]
    }
  ]
}